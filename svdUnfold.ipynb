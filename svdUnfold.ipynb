{
 "cells": [
  {
   "cell_type": "code",
   "execution_count": null,
   "metadata": {},
   "outputs": [],
   "source": [
    "import numpy as np\n",
    "import pylab as plt\n",
    "from matplotlib.colors import LogNorm\n",
    "\n",
    "from example import ExampleProblem\n",
    "\n",
    "plt.rcParams['axes.grid'] = True\n",
    "plt.rcParams['axes.axisbelow'] = True"
   ]
  },
  {
   "cell_type": "code",
   "execution_count": null,
   "metadata": {
    "scrolled": false
   },
   "outputs": [],
   "source": [
    "exampleProblem = ExampleProblem()\n",
    "exampleProblem.set_bins_x_ini(20, -25, 25)\n",
    "exampleProblem.set_bins_b_ini(10, -25, 25)\n",
    "exampleProblem.setup_example()\n",
    "\n",
    "print(\"bins in x:\", exampleProblem.n_bins_x)\n",
    "#print(\"bins x: \", exampleProblem.bins_x, \"\\nbin centers x: \", exampleProblem.bin_centers_x)\n",
    "print(\"bins in b:\", exampleProblem.n_bins_b)\n",
    "#print(\"bins b: \", exampleProblem.bins_b, \"\\nbin centers b: \", exampleProblem.bin_centers_b)"
   ]
  },
  {
   "cell_type": "code",
   "execution_count": null,
   "metadata": {
    "scrolled": false
   },
   "outputs": [],
   "source": [
    "%matplotlib notebook\n",
    "\n",
    "x_ini_gen = exampleProblem.get_initial_MC()\n",
    "x_ini = np.histogram(x_ini_gen, exampleProblem.bins_x)\n",
    "x_test_gen = exampleProblem.get_test_distribution()\n",
    "x_test = np.histogram(x_test_gen, exampleProblem.bins_x)\n",
    "\n",
    "b_ini_gen = exampleProblem.get_initial_MC_data()\n",
    "b_ini = np.histogram(b_ini_gen, exampleProblem.bins_b)\n",
    "b_test_gen = exampleProblem.get_test_data()\n",
    "b_test = np.histogram(b_test_gen, exampleProblem.bins_b)\n",
    "\n",
    "plt.hist(x_ini_gen, density=False, bins=exampleProblem.bins_x, histtype=\"stepfilled\", color=\"black\", label=\"x_ini\", alpha=0.25)\n",
    "plt.hist(x_test_gen, density=False, bins=exampleProblem.bins_x, histtype=\"stepfilled\", color=\"red\", label=\"x_test\", alpha=0.25)\n",
    "plt.plot(exampleProblem.bin_centers_b, b_ini[0], \".\", color=\"black\", label=\"b_ini\")\n",
    "plt.plot(exampleProblem.bin_centers_b, b_test[0], \".\", color=\"red\", label=\"b_test\")\n",
    "\n",
    "plt.xlabel(\"x\")\n",
    "plt.ylabel(\"entries\")\n",
    "plt.legend()\n",
    "plt.yscale(\"log\")\n",
    "x = np.linspace(exampleProblem.bins_x[0], exampleProblem.bins_x[-1], 1000)\n",
    "plt.plot(x, exampleProblem.true_distribution(x))\n",
    "plt.plot(x, exampleProblem.test_distribution(x))"
   ]
  },
  {
   "cell_type": "code",
   "execution_count": null,
   "metadata": {
    "scrolled": false
   },
   "outputs": [],
   "source": [
    "%matplotlib notebook\n",
    "\n",
    "A = exampleProblem.get_response_matrix()[0].T\n",
    "\n",
    "plt.imshow((A), norm=LogNorm(vmin=1, vmax=1e6), \\\n",
    "           extent=[max(np.min(x_ini_gen),-10),min(np.max(x_ini_gen),10),min(np.max(b_ini_gen),10),max(np.min(b_ini_gen),-10)])\n",
    "           #extent=[np.min(x_ini_gen),np.max(x_ini_gen),np.max(b_test_gen),np.min(b_test_gen)])\n",
    "plt.xlabel(\"true ($x_{ini}$)\")\n",
    "plt.ylabel(\"measured ($b_{ini}$)\")\n",
    "plt.colorbar()\n",
    "#plt.axis((-20,20,-20,20))\n",
    "plt.show()\n"
   ]
  },
  {
   "cell_type": "code",
   "execution_count": null,
   "metadata": {
    "scrolled": false
   },
   "outputs": [],
   "source": [
    "%matplotlib notebook\n",
    "\n",
    "B = exampleProblem.get_test_data_covariance()\n",
    "plt.imshow(B, norm=LogNorm(vmin=1, vmax=1e6), \\\n",
    "           extent=[0, exampleProblem.n_bins_b, exampleProblem.n_bins_b, 0])\n",
    "#plt.colorbar()\n",
    "plt.show()"
   ]
  },
  {
   "cell_type": "code",
   "execution_count": null,
   "metadata": {},
   "outputs": [],
   "source": [
    "import svdunfold\n",
    "unfold = svdunfold.SVDunfold(x_ini, b_test, A, B)\n",
    "unfold.transform_system()\n",
    "d = unfold.get_abs_d()"
   ]
  },
  {
   "cell_type": "code",
   "execution_count": null,
   "metadata": {},
   "outputs": [],
   "source": [
    "%matplotlib notebook\n",
    "plt.plot(np.arange(len(d)), d, \"k.--\")"
   ]
  },
  {
   "cell_type": "code",
   "execution_count": null,
   "metadata": {},
   "outputs": [],
   "source": [
    "%matplotlib notebook\n",
    "s = unfold.get_singular_values()\n",
    "plt.plot(np.arange(len(s)), s, \"k.--\")\n",
    "plt.yscale(\"log\")"
   ]
  },
  {
   "cell_type": "code",
   "execution_count": null,
   "metadata": {},
   "outputs": [],
   "source": [
    "unfold.unfold(5)\n",
    "x = unfold.get_unfolded_distribution()\n",
    "X = unfold.get_unfolded_cov_matrix()\n",
    "\n",
    "%matplotlib notebook\n",
    "plt.hist(x_ini_gen, density=False, bins=exampleProblem.bins_x, histtype=\"stepfilled\", color=\"blue\", label=\"x_test\", alpha=0.25)\n",
    "plt.hist(x_test_gen, density=False, bins=exampleProblem.bins_x, histtype=\"stepfilled\", color=\"red\", label=\"x_test\", alpha=0.25)\n",
    "plt.errorbar(exampleProblem.bin_centers_x, x, fmt=\"k.\", yerr=np.sqrt(np.diagonal(X)))\n",
    "plt.yscale(\"log\")"
   ]
  }
 ],
 "metadata": {
  "kernelspec": {
   "display_name": "Python 3",
   "language": "python",
   "name": "python3"
  },
  "language_info": {
   "codemirror_mode": {
    "name": "ipython",
    "version": 3
   },
   "file_extension": ".py",
   "mimetype": "text/x-python",
   "name": "python",
   "nbconvert_exporter": "python",
   "pygments_lexer": "ipython3",
   "version": "3.7.6"
  }
 },
 "nbformat": 4,
 "nbformat_minor": 4
}
